{
 "cells": [
  {
   "cell_type": "markdown",
   "metadata": {
    "id": "Ck-a5I-ygMjn"
   },
   "source": [
    "## Week 1 - Functions and Classes\n",
    "\n",
    "## Week 2 - Numpy, pandas and Matplotlib\n",
    "\n",
    "## Week 3 - Fundamental theories in Machine Learning and Scikit Learn.\n",
    "\n",
    "## Week 4 - Machine Learning Project (The 'Hello World' of Machine learning)\n",
    "\n",
    "## Week 5 - Intro to Deep Learning"
   ]
  },
  {
   "cell_type": "markdown",
   "metadata": {
    "id": "CDFbxIMQdUaT"
   },
   "source": [
    "# Functions"
   ]
  },
  {
   "cell_type": "code",
   "execution_count": 2,
   "metadata": {
    "id": "MFDn_Zn6cuYq"
   },
   "outputs": [],
   "source": [
    "# bigger application = function 1 + function 2 + function 3 + function 4 + function 5"
   ]
  },
  {
   "cell_type": "code",
   "execution_count": 3,
   "metadata": {
    "id": "2IXVMvhncyq2"
   },
   "outputs": [],
   "source": [
    "# Simple function for adding two numbers\n",
    "# Use the keyword 'def' to create your function\n",
    "\n",
    "def add_two_number():\n",
    "    print(\"This function adds two numbers...\")\n",
    "\n",
    "# A function that subtracts two numbers\n",
    "def subtract_two_numbers():\n",
    "    print(\"This function subtracts two numbers\")"
   ]
  },
  {
   "cell_type": "code",
   "execution_count": 4,
   "metadata": {
    "colab": {
     "base_uri": "https://localhost:8080/"
    },
    "id": "IzIIAqqgidL2",
    "outputId": "318f36f6-b583-4e4b-e728-f1dceaaa4901"
   },
   "outputs": [
    {
     "name": "stdout",
     "output_type": "stream",
     "text": [
      "This function adds two numbers...\n"
     ]
    }
   ],
   "source": [
    "add_two_number()"
   ]
  },
  {
   "cell_type": "code",
   "execution_count": 5,
   "metadata": {
    "colab": {
     "base_uri": "https://localhost:8080/"
    },
    "id": "ahFEvhVJigqu",
    "outputId": "32836b17-2005-4a84-f302-267b869a6e39"
   },
   "outputs": [
    {
     "name": "stdout",
     "output_type": "stream",
     "text": [
      "This function subtracts two numbers\n"
     ]
    }
   ],
   "source": [
    "subtract_two_numbers()"
   ]
  },
  {
   "cell_type": "code",
   "execution_count": 6,
   "metadata": {
    "id": "6Bs1QD1-iuat"
   },
   "outputs": [],
   "source": [
    "# Parameters and arguments\n",
    "\n",
    "# A parameter is a variable that you pass into your function definition\n",
    "\n",
    "# An argument is the value that is sent to the function when it is called\n",
    "\n",
    "def add_two_numbers(a, b):\n",
    "    print(a + b)"
   ]
  },
  {
   "cell_type": "code",
   "execution_count": 7,
   "metadata": {
    "colab": {
     "base_uri": "https://localhost:8080/"
    },
    "id": "Z_DArDmkja4Z",
    "outputId": "554c79af-7141-4cab-f1fb-9388c70673b6"
   },
   "outputs": [
    {
     "name": "stdout",
     "output_type": "stream",
     "text": [
      "3\n"
     ]
    }
   ],
   "source": [
    "add_two_numbers(1, 2)"
   ]
  },
  {
   "cell_type": "code",
   "execution_count": 8,
   "metadata": {
    "id": "KKEaaDZejjE9"
   },
   "outputs": [],
   "source": [
    "def subtract_two_numbers(a, b):\n",
    "    print(a - b)"
   ]
  },
  {
   "cell_type": "code",
   "execution_count": 9,
   "metadata": {
    "colab": {
     "base_uri": "https://localhost:8080/"
    },
    "id": "RYzcXWspjn9l",
    "outputId": "b0fa2413-65a1-43a0-ae7c-1ba84e084a42"
   },
   "outputs": [
    {
     "name": "stdout",
     "output_type": "stream",
     "text": [
      "-1\n"
     ]
    }
   ],
   "source": [
    "subtract_two_numbers(1, 2)"
   ]
  },
  {
   "cell_type": "code",
   "execution_count": 10,
   "metadata": {
    "colab": {
     "base_uri": "https://localhost:8080/",
     "height": 141
    },
    "id": "R1IYka8Ajpdf",
    "outputId": "4a9d01b6-c5cd-417c-b53c-279be52701c5"
   },
   "outputs": [
    {
     "ename": "TypeError",
     "evalue": "add_two_numbers() takes 2 positional arguments but 3 were given",
     "output_type": "error",
     "traceback": [
      "\u001b[1;31m---------------------------------------------------------------------------\u001b[0m",
      "\u001b[1;31mTypeError\u001b[0m                                 Traceback (most recent call last)",
      "Cell \u001b[1;32mIn[10], line 2\u001b[0m\n\u001b[0;32m      1\u001b[0m \u001b[38;5;66;03m# An error will occur when we pass more than two arguments as the function expects only two\u001b[39;00m\n\u001b[1;32m----> 2\u001b[0m add_two_numbers(\u001b[38;5;241m10\u001b[39m, \u001b[38;5;241m20\u001b[39m, \u001b[38;5;241m30\u001b[39m)\n",
      "\u001b[1;31mTypeError\u001b[0m: add_two_numbers() takes 2 positional arguments but 3 were given"
     ]
    }
   ],
   "source": [
    "# An error will occur when we pass more than two arguments as the function expects only two\n",
    "add_two_numbers(10, 20, 30)"
   ]
  },
  {
   "cell_type": "code",
   "execution_count": null,
   "metadata": {
    "colab": {
     "base_uri": "https://localhost:8080/",
     "height": 158
    },
    "id": "cL7ug7Sej5WT",
    "outputId": "9a8db7cf-885b-4f2c-f980-83e2ef71a51c"
   },
   "outputs": [],
   "source": [
    "# An error will occur when we pass less than two arguments as the function expects only two.\n",
    "add_two_numbers(30)"
   ]
  },
  {
   "cell_type": "markdown",
   "metadata": {
    "id": "slm9DzVPlVn0"
   },
   "source": [
    "## Assignment 1: Write a function to multiply two numbers and use it in the calculator function. The function name should be 'multiply_two_numbers'"
   ]
  },
  {
   "cell_type": "code",
   "execution_count": 23,
   "metadata": {
    "id": "-pS0SocrkIz6"
   },
   "outputs": [],
   "source": [
    "def multiply_two_numbers(a,b):\n",
    "    print(a * b)"
   ]
  },
  {
   "cell_type": "code",
   "execution_count": null,
   "metadata": {},
   "outputs": [],
   "source": [
    "# This is a bigger function that uses the two smaller functions above. It is a calculator function\n",
    "def calculator(a, b, operation):     \n",
    "  # Add the given numbers if the operation is 'add'\n",
    "        if operation == \"add\":\n",
    "           add_two_numbers(a, b)\n",
    "  # Subtract the second value from the first if the operation is 'subtract'\n",
    "        elif operation == \"subtract\":\n",
    "           subtract_two_numbers(a, b)\n",
    "  # Multiply the given values if the operation is multiply.\n",
    "        elif operation == \"multiply\":\n",
    "            multiply_two_numbers(a,b)  # Replace this line with your 'multiply_two_numbers' function\n",
    "        else: \n",
    "            print(\"Please input some integer values and specify your operation as 'add', 'subtract' or 'multiply'\")"
   ]
  },
  {
   "cell_type": "code",
   "execution_count": null,
   "metadata": {},
   "outputs": [],
   "source": [
    "calculator(3.1,2.5,\"add\")"
   ]
  },
  {
   "cell_type": "markdown",
   "metadata": {
    "id": "mcYKVTydlTxz"
   },
   "source": []
  },
  {
   "cell_type": "code",
   "execution_count": null,
   "metadata": {
    "colab": {
     "base_uri": "https://localhost:8080/"
    },
    "id": "rIzuy0mElTKp",
    "outputId": "89d6e360-9551-48c3-b09f-8bcf585d6bde"
   },
   "outputs": [],
   "source": [
    "calculator(10, 20, \"add\")"
   ]
  },
  {
   "cell_type": "code",
   "execution_count": null,
   "metadata": {
    "colab": {
     "base_uri": "https://localhost:8080/"
    },
    "id": "2lvBvjB0lw8X",
    "outputId": "d7417bf6-8903-4687-b88c-1c6a0e6bbb78"
   },
   "outputs": [],
   "source": [
    "calculator(10, 20, \"subtract\")"
   ]
  },
  {
   "cell_type": "code",
   "execution_count": null,
   "metadata": {
    "colab": {
     "base_uri": "https://localhost:8080/"
    },
    "id": "4eCpmBA7lzcO",
    "outputId": "47538761-328d-4e94-ee8d-41576e244f46"
   },
   "outputs": [],
   "source": [
    "calculator(10, 20, \"multiply\")"
   ]
  },
  {
   "cell_type": "code",
   "execution_count": null,
   "metadata": {
    "colab": {
     "base_uri": "https://localhost:8080/",
     "height": 141
    },
    "id": "thrbfHYKmIDo",
    "outputId": "df209b8e-0ef7-4dab-d113-c78d1e1823ce"
   },
   "outputs": [],
   "source": [
    "calculator(10, 20, \"add\", \"subtract\")"
   ]
  },
  {
   "cell_type": "code",
   "execution_count": null,
   "metadata": {
    "colab": {
     "base_uri": "https://localhost:8080/",
     "height": 252
    },
    "id": "FdmMTc1zmbNZ",
    "outputId": "9e449b82-9cb8-4374-e643-d5de64dc48cc"
   },
   "outputs": [],
   "source": [
    "calculator(10, \"20\", \"add\")"
   ]
  },
  {
   "cell_type": "markdown",
   "metadata": {
    "id": "y8nCW9MNoI57"
   },
   "source": [
    "## Assignment 2: Based on the above error, modify our calculator function to ensure that the arguments passed when calling the function are integers so that we can perform our operations without any errors."
   ]
  },
  {
   "cell_type": "code",
   "execution_count": 25,
   "metadata": {
    "id": "GIQ7gd1moIMl"
   },
   "outputs": [],
   "source": [
    " #This is a bigger function that uses the two smaller functions above. It is a calculator function\n",
    "def calculator(a, b, operation):\n",
    "    if a and b == int:\n",
    "           \n",
    "  # Add the given numbers if the operation is 'add'\n",
    "        if operation == \"add\":\n",
    "           add_two_numbers(a, b)\n",
    "  # Subtract the second value from the first if the operation is 'subtract'\n",
    "    elif operation == \"subtract\":\n",
    "        subtract_two_numbers(a, b)\n",
    "  # Multiply the given values if the operation is multiply.\n",
    "    elif operation == \"multiply\":\n",
    "        multiply_two_numbers(a,b)  # Replace this line with your 'multiply_two_numbers' function\n",
    "    else: \n",
    "        print(\"Please input some integer values and specify your operation as 'add', 'subtract' or 'multiply'\")"
   ]
  },
  {
   "cell_type": "code",
   "execution_count": null,
   "metadata": {},
   "outputs": [],
   "source": [
    "# This function adds,subtracts or multiplies two numbers only if the numbers are integers"
   ]
  }
 ],
 "metadata": {
  "colab": {
   "provenance": []
  },
  "kernelspec": {
   "display_name": "Python 3 (ipykernel)",
   "language": "python",
   "name": "python3"
  },
  "language_info": {
   "codemirror_mode": {
    "name": "ipython",
    "version": 3
   },
   "file_extension": ".py",
   "mimetype": "text/x-python",
   "name": "python",
   "nbconvert_exporter": "python",
   "pygments_lexer": "ipython3",
   "version": "3.11.5"
  }
 },
 "nbformat": 4,
 "nbformat_minor": 1
}
